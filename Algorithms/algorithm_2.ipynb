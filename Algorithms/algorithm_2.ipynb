{
 "cells": [
  {
   "cell_type": "code",
   "execution_count": 18,
   "metadata": {},
   "outputs": [
    {
     "name": "stdout",
     "output_type": "stream",
     "text": [
      "The autoreload extension is already loaded. To reload it, use:\n",
      "  %reload_ext autoreload\n"
     ]
    }
   ],
   "source": [
    "import numpy as np\n",
    "import sys\n",
    "sys.path.append(r\"C:\\Users\\gapar\\OneDrive\\Documents\\GitHub\\Logical-Clifford-Synthesis\")\n",
    "from algorithm_1 import SymplecticOperations\n",
    "%load_ext autoreload\n",
    "%autoreload 2\n",
    "\n",
    "\n",
    "# Initialize the SymplecticOperations class\n",
    "symplectic_ops = SymplecticOperations()\n",
    "\n",
    "# Example usage\n",
    "\n",
    "\n",
    "F, Transvecs = symplectic_ops.find_symp_mat_transvecs(X, Y)\n",
    "\n",
    "# Use F and Transvecs as needed\n",
    "\n",
    "\n",
    "def symplectic_code(U, V):\n",
    "\n",
    "    m = U.shape[1] // 2\n",
    "    k = 2 * m - V.shape[0]\n",
    "    tot = 2 ** (k * (k + 1) // 2)\n",
    "    F_all = [None] * tot\n",
    "\n",
    "    # Find one solution using symplectic transvections\n",
    "    F0, Transvecs = symplectic_ops.find_symp_mat_transvecs(U[0:(2*m-k), :], V)\n",
    "    #F0 = find_symp_mat_transvecs(U[0:(2*m-k), :], V)\n",
    "\n",
    "    A = U.dot(F0) % 2\n",
    "    Ainv = gf2matinv(A)\n",
    "    Basis = np.vstack((A[(m - k + 1):m, :], A[(2*m - k + 1):(2*m), :]))\n",
    "    Subspace = np.dot(np.unpackbits(np.arange(2 ** (2 * k))[:, None], axis=1), Basis) % 2\n",
    "    StabF0 = A[(m - k + 1):m, :]\n",
    "    Choices = [None] * k\n",
    "\n",
    "    # Calculate all choices for each vector in Subspace using just the conditions\n",
    "    # imposed by the (modified) stabilizer generators, i.e., the rows of S*F0\n",
    "    for i in range(k):\n",
    "        # Impose symplectic inner product of 1 with the \"fixed\" stabilizer\n",
    "        h = np.concatenate((np.zeros(i, dtype=int), [1], np.zeros(k - i, dtype=int)))\n",
    "        Innpdts = np.dot(Subspace, np.fft.fftshift(StabF0, axes=1).T) % 2\n",
    "        Choices[i] = Subspace[np.all(Innpdts == h, axis=1)]\n",
    "\n",
    "    # First free vector, i.e. row 1 of Subspace has 2^k choices,\n",
    "    # second free vector has 2^(k-1) choices and so on...\n",
    "    for l in range(tot):\n",
    "        Bl = np.copy(A)\n",
    "        V = np.zeros((k, 2 * m), dtype=int)\n",
    "        lbin = np.unpackbits(np.array([l], dtype=np.uint64).view(np.uint8))[::-1][:k * (k + 1) // 2]\n",
    "        v1_ind = np.packbits(lbin[:k], bitorder='big')[0]\n",
    "        V[0, :] = Choices[0][v1_ind]\n",
    "        for i in range(1, k):\n",
    "            vi_ind = np.packbits(lbin[k*(i-1):k*i], bitorder='big')[0]\n",
    "            Innprods = np.dot(Choices[i], np.fft.fftshift(V, axes=1).T) % 2\n",
    "            \n",
    "            # Impose symplectic inner product of 0 with chosen free vectors\n",
    "            Ch_i = Choices[i][np.all(Innprods == 0, axis=1)]\n",
    "            V[i, :] = Ch_i[vi_ind]\n",
    "        Bl[(2 * m - k):(2 * m), :] = V\n",
    "        F = np.dot(Ainv, Bl) % 2\n",
    "        F_all[l] = np.dot(F0, F) % 2\n",
    "\n",
    "    return F_all\n"
   ]
  },
  {
   "cell_type": "code",
   "execution_count": 19,
   "metadata": {},
   "outputs": [
    {
     "ename": "NameError",
     "evalue": "name 'gf2matinv' is not defined",
     "output_type": "error",
     "traceback": [
      "\u001b[1;31m---------------------------------------------------------------------------\u001b[0m",
      "\u001b[1;31mNameError\u001b[0m                                 Traceback (most recent call last)",
      "Cell \u001b[1;32mIn[19], line 3\u001b[0m\n\u001b[0;32m      1\u001b[0m X \u001b[38;5;241m=\u001b[39m np\u001b[38;5;241m.\u001b[39marray([[\u001b[38;5;241m1\u001b[39m, \u001b[38;5;241m0\u001b[39m], [\u001b[38;5;241m0\u001b[39m, \u001b[38;5;241m1\u001b[39m]])\n\u001b[0;32m      2\u001b[0m Y \u001b[38;5;241m=\u001b[39m np\u001b[38;5;241m.\u001b[39marray([[\u001b[38;5;241m0\u001b[39m,\u001b[38;5;241m1\u001b[39m], [\u001b[38;5;241m1\u001b[39m, \u001b[38;5;241m1\u001b[39m]])\n\u001b[1;32m----> 3\u001b[0m \u001b[43msymplectic_code\u001b[49m\u001b[43m(\u001b[49m\u001b[43mX\u001b[49m\u001b[43m,\u001b[49m\u001b[43mY\u001b[49m\u001b[43m)\u001b[49m\n",
      "Cell \u001b[1;32mIn[18], line 32\u001b[0m, in \u001b[0;36msymplectic_code\u001b[1;34m(U, V)\u001b[0m\n\u001b[0;32m     29\u001b[0m \u001b[38;5;66;03m#F0 = find_symp_mat_transvecs(U[0:(2*m-k), :], V)\u001b[39;00m\n\u001b[0;32m     31\u001b[0m A \u001b[38;5;241m=\u001b[39m U\u001b[38;5;241m.\u001b[39mdot(F0) \u001b[38;5;241m%\u001b[39m \u001b[38;5;241m2\u001b[39m\n\u001b[1;32m---> 32\u001b[0m Ainv \u001b[38;5;241m=\u001b[39m \u001b[43mgf2matinv\u001b[49m(A)\n\u001b[0;32m     33\u001b[0m Basis \u001b[38;5;241m=\u001b[39m np\u001b[38;5;241m.\u001b[39mvstack((A[(m \u001b[38;5;241m-\u001b[39m k \u001b[38;5;241m+\u001b[39m \u001b[38;5;241m1\u001b[39m):m, :], A[(\u001b[38;5;241m2\u001b[39m\u001b[38;5;241m*\u001b[39mm \u001b[38;5;241m-\u001b[39m k \u001b[38;5;241m+\u001b[39m \u001b[38;5;241m1\u001b[39m):(\u001b[38;5;241m2\u001b[39m\u001b[38;5;241m*\u001b[39mm), :]))\n\u001b[0;32m     34\u001b[0m Subspace \u001b[38;5;241m=\u001b[39m np\u001b[38;5;241m.\u001b[39mdot(np\u001b[38;5;241m.\u001b[39munpackbits(np\u001b[38;5;241m.\u001b[39marange(\u001b[38;5;241m2\u001b[39m \u001b[38;5;241m*\u001b[39m\u001b[38;5;241m*\u001b[39m (\u001b[38;5;241m2\u001b[39m \u001b[38;5;241m*\u001b[39m k))[:, \u001b[38;5;28;01mNone\u001b[39;00m], axis\u001b[38;5;241m=\u001b[39m\u001b[38;5;241m1\u001b[39m), Basis) \u001b[38;5;241m%\u001b[39m \u001b[38;5;241m2\u001b[39m\n",
      "\u001b[1;31mNameError\u001b[0m: name 'gf2matinv' is not defined"
     ]
    }
   ],
   "source": [
    "X = np.array([[1, 0], [0, 1]])\n",
    "Y = np.array([[0,1], [1, 1]])\n",
    "symplectic_code(X,Y)\n",
    "\n"
   ]
  }
 ],
 "metadata": {
  "kernelspec": {
   "display_name": "quan_comp",
   "language": "python",
   "name": "python3"
  },
  "language_info": {
   "codemirror_mode": {
    "name": "ipython",
    "version": 3
   },
   "file_extension": ".py",
   "mimetype": "text/x-python",
   "name": "python",
   "nbconvert_exporter": "python",
   "pygments_lexer": "ipython3",
   "version": "3.12.2"
  }
 },
 "nbformat": 4,
 "nbformat_minor": 2
}
