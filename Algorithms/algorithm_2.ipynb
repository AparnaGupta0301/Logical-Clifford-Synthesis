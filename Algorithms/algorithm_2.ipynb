{
 "cells": [
  {
   "cell_type": "code",
   "execution_count": null,
   "metadata": {},
   "outputs": [],
   "source": [
    "import numpy as np\n",
    "\n",
    "\n",
    "def symplectic_code(U, V):\n",
    "    m = U.shape[1] // 2\n",
    "    k = 2 * m - V.shape[0]\n",
    "    tot = 2 ** (k * (k + 1) // 2)\n",
    "    F_all = [None] * tot\n",
    "\n",
    "    # Find one solution using symplectic transvections\n",
    "    F0 = find_symp_mat(U[0:(2*m-k), :], V)\n",
    "\n",
    "    A = U.dot(F0) % 2\n",
    "    Ainv = gf2matinv(A)\n",
    "    Basis = np.vstack((A[(m - k + 1):m, :], A[(2*m - k + 1):(2*m), :]))\n",
    "    Subspace = np.dot(np.unpackbits(np.arange(2 ** (2 * k))[:, None], axis=1), Basis) % 2\n",
    "    StabF0 = A[(m - k + 1):m, :]\n",
    "    Choices = [None] * k\n",
    "\n",
    "    # Calculate all choices for each vector in Subspace using just the conditions\n",
    "    # imposed by the (modified) stabilizer generators, i.e., the rows of S*F0\n",
    "    for i in range(k):\n",
    "        # Impose symplectic inner product of 1 with the \"fixed\" stabilizer\n",
    "        h = np.concatenate((np.zeros(i, dtype=int), [1], np.zeros(k - i, dtype=int)))\n",
    "        Innpdts = np.dot(Subspace, np.fft.fftshift(StabF0, axes=1).T) % 2\n",
    "        Choices[i] = Subspace[np.all(Innpdts == h, axis=1)]\n",
    "\n",
    "    # First free vector, i.e. row 1 of Subspace has 2^k choices,\n",
    "    # second free vector has 2^(k-1) choices and so on...\n",
    "    for l in range(tot):\n",
    "        Bl = np.copy(A)\n",
    "        V = np.zeros((k, 2 * m), dtype=int)\n",
    "        lbin = np.unpackbits(np.array([l], dtype=np.uint64).view(np.uint8))[::-1][:k * (k + 1) // 2]\n",
    "        v1_ind = np.packbits(lbin[:k], bitorder='big')[0]\n",
    "        V[0, :] = Choices[0][v1_ind]\n",
    "        for i in range(1, k):\n",
    "            vi_ind = np.packbits(lbin[k*(i-1):k*i], bitorder='big')[0]\n",
    "            Innprods = np.dot(Choices[i], np.fft.fftshift(V, axes=1).T) % 2\n",
    "            \n",
    "            # Impose symplectic inner product of 0 with chosen free vectors\n",
    "            Ch_i = Choices[i][np.all(Innprods == 0, axis=1)]\n",
    "            V[i, :] = Ch_i[vi_ind]\n",
    "        Bl[(2 * m - k):(2 * m), :] = V\n",
    "        F = np.dot(Ainv, Bl) % 2\n",
    "        F_all[l] = np.dot(F0, F) % 2\n",
    "\n",
    "    return F_all\n"
   ]
  }
 ],
 "metadata": {
  "language_info": {
   "name": "python"
  }
 },
 "nbformat": 4,
 "nbformat_minor": 2
}
