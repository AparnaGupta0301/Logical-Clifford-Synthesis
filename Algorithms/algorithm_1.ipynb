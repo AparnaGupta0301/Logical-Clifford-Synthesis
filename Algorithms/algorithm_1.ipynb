{
 "cells": [
  {
   "cell_type": "code",
   "execution_count": 36,
   "metadata": {},
   "outputs": [],
   "source": [
    "import numpy as np\n",
    "from numpy.fft import fftshift\n",
    "\n",
    "def gf2_gaussian_elimination(A, b):\n",
    "    \"\"\"\n",
    "    Solves Ax = b for x over GF(2) using Gaussian elimination.\n",
    "    Returns x and a flag indicating if the solution is valid.\n",
    "    \"\"\"\n",
    "    A, b = np.mod(A, 2), np.mod(b, 2)  # Ensure GF(2)\n",
    "    m, n = A.shape\n",
    "    Ab = np.hstack([A, b.reshape(-1, 1)])\n",
    "    \n",
    "    for col in range(n):\n",
    "        for i in range(col, m):\n",
    "            if Ab[i, col] == 1:\n",
    "                if i != col:\n",
    "                    Ab[[col, i]] = Ab[[i, col]]\n",
    "                break\n",
    "        else:\n",
    "            continue\n",
    "        \n",
    "        for i in range(col + 1, m):\n",
    "            if Ab[i, col] == 1:\n",
    "                Ab[i] = np.mod(Ab[i] + Ab[col], 2)\n",
    "    \n",
    "    x = np.zeros(n, dtype=int)\n",
    "    for i in range(n - 1, -1, -1):\n",
    "        if Ab[i, i] == 0 and Ab[i, -1] == 1:\n",
    "            return None, False  # Inconsistent system\n",
    "        if Ab[i, i] == 1:\n",
    "            x[i] = np.mod(Ab[i, n] + np.dot(Ab[i, i+1:n], x[i+1:n]), 2)\n",
    "    return x, True\n",
    "\n",
    "def Z_h(h, n):\n",
    "    return np.mod(np.eye(2 * n) + np.mod(np.outer(fftshift(h), h), 2),2)\n",
    "    \n",
    "    \n",
    "\n",
    "def symp_inn_pdt(X, Y):\n",
    "    # Compute the symplectic inner product, assuming X and Y are in GF(2)\n",
    "    return np.mod(np.sum(X * fftshift(Y, axes=1), axis=1), 2)\n",
    "\n",
    "# def symp_mat_transvecs(h):\n",
    "#     F = np.mod(np.dot(F, Z_h(h_i, n)), 2)\n",
    "\n",
    "def find_symp_mat_transvecs(X, Y):\n",
    "    m, cols = X.shape\n",
    "    n = cols // 2\n",
    "    F = np.eye(2 * n)\n",
    "    Transvecs = []\n",
    "    \n",
    "    \n",
    "    for i in range(m):\n",
    "        x_i, y_i = X[i, :], Y[i, :]\n",
    "        x_it = np.mod(np.dot(x_i, F), 2)\n",
    "        if np.all(x_i == y_i):\n",
    "            continue\n",
    "        if symp_inn_pdt(x_i.reshape(1, -1), y_i.reshape(1, -1)) == 1:\n",
    "            #print(symp_inn_pdt(x_it.reshape(1, -1), y_i.reshape(1, -1)))\n",
    "            h_i = np.mod(x_it + y_i, 2)\n",
    "            #print(h_i)\n",
    "            F = np.mod(np.matmul(F, Z_h(h_i, n)), 2)\n",
    "            #print(x_it)\n",
    "            #print(np.mod((x_it+y_i),2))\n",
    "            \n",
    "            #print(Z_h(h_i, n))\n",
    "            Transvecs.append((Z_h(h_i, n), h_i))\n",
    "        else:\n",
    "            w_i = find_w(x_it, y_i, Y[:i, :], n)\n",
    "\n",
    "            print(w_i)\n",
    "            h_i1 = np.mod(w_i + y_i, 2)\n",
    "\n",
    "            print(h_i1)\n",
    "            h_i2 = np.mod(x_it + w_i, 2)\n",
    "            print(h_i2)\n",
    "            F = np.mod(np.dot(np.dot(F, Z_h(h_i1, n)), Z_h(h_i2, n)), 2)\n",
    "            Transvecs.append((Z_h(h_i1, n), h_i1))\n",
    "            Transvecs.append((Z_h(h_i2, n), h_i2))\n",
    "    return F, Transvecs\n",
    "\n",
    "def find_w(x, y, Ys, n):\n",
    "    A = fftshift(np.vstack([x, y] + [Ys[j, :] for j in range(Ys.shape[0])]), axes=1)\n",
    "    b = np.array([1, 1] + [symp_inn_pdt(Ys[j, :].reshape(1, -1), y.reshape(1, -1))[0] for j in range(Ys.shape[0])])\n",
    "    w, valid = gf2_gaussian_elimination(A, b)\n",
    "    if not valid:\n",
    "        raise ValueError(\"No valid solution found for w.\")\n",
    "    return w\n"
   ]
  },
  {
   "cell_type": "code",
   "execution_count": 37,
   "metadata": {},
   "outputs": [
    {
     "name": "stdout",
     "output_type": "stream",
     "text": [
      "[[0. 1.]\n",
      " [1. 1.]]\n",
      "Applied Transvections:\n",
      "Matrix:\n",
      " [[0. 1.]\n",
      " [1. 0.]] \n",
      "Vector:\n",
      " [1. 1.]\n",
      "Matrix:\n",
      " [[1. 1.]\n",
      " [0. 1.]] \n",
      "Vector:\n",
      " [0. 1.]\n"
     ]
    }
   ],
   "source": [
    "# Define matrices X and Y\n",
    "X = np.array([[1, 0], [0, 1]])\n",
    "Y = np.array([[0,1], [1, 1]])\n",
    "\n",
    "\n",
    "# Perform the symplectic matrix transformation\n",
    "F, Transvecs = find_symp_mat_transvecs(X, Y)\n",
    "\n",
    "\n",
    "# Print the results\n",
    "# print(\"Resulting F matrix:\")\n",
    "print(F)\n",
    "print(\"Applied Transvections:\")\n",
    "for mat, vec in Transvecs:\n",
    "    print(\"Matrix:\\n\", mat, \"\\nVector:\\n\", vec)"
   ]
  },
  {
   "cell_type": "code",
   "execution_count": 38,
   "metadata": {},
   "outputs": [
    {
     "data": {
      "text/plain": [
       "array([[1., 0.],\n",
       "       [0., 1.]])"
      ]
     },
     "execution_count": 38,
     "metadata": {},
     "output_type": "execute_result"
    }
   ],
   "source": [
    "\n"
   ]
  }
 ],
 "metadata": {
  "kernelspec": {
   "display_name": "quan_comp",
   "language": "python",
   "name": "python3"
  },
  "language_info": {
   "codemirror_mode": {
    "name": "ipython",
    "version": 3
   },
   "file_extension": ".py",
   "mimetype": "text/x-python",
   "name": "python",
   "nbconvert_exporter": "python",
   "pygments_lexer": "ipython3",
   "version": "3.12.2"
  }
 },
 "nbformat": 4,
 "nbformat_minor": 2
}
