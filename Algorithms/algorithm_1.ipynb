{
 "cells": [
  {
   "cell_type": "code",
   "execution_count": 57,
   "metadata": {},
   "outputs": [
    {
     "name": "stdout",
     "output_type": "stream",
     "text": [
      "The autoreload extension is already loaded. To reload it, use:\n",
      "  %reload_ext autoreload\n"
     ]
    }
   ],
   "source": [
    "import numpy as np\n",
    "import sys\n",
    "sys.path.append(r\"C:\\Users\\gapar\\Logical-Clifford-Synthesis\")\n",
    "from Algorithms.algorithm_1 import SymplecticOperations\n",
    "from helper_functions.helperfunctions import SymplecticMatrix\n",
    "%load_ext autoreload\n",
    "%autoreload 2\n",
    "%reload_ext autoreload\n",
    "\n",
    "# Initialize the SymplecticOperations class\n",
    "symplectic_ops = SymplecticOperations()"
   ]
  },
  {
   "cell_type": "code",
   "execution_count": 58,
   "metadata": {},
   "outputs": [
    {
     "name": "stdout",
     "output_type": "stream",
     "text": [
      "x_i\n",
      "[1 0 0 0]\n",
      "y_i\n",
      "[1 1 0 0]\n",
      "pick w_i\n",
      "A\n",
      "[[0. 0. 1. 0.]\n",
      " [0. 0. 1. 1.]]\n",
      "b\n",
      "[1 1]\n",
      "x_it\n",
      "[1. 0. 0. 0.]\n",
      "y_i\n",
      "[1 1 0 0]\n",
      "Y[:i, :] []\n",
      "n 2\n",
      "w_i [0 0 1 0]\n",
      "h_i1\n",
      "[1 1 1 0]\n",
      "h_i2\n",
      "[1. 0. 1. 0.]\n",
      "F\n",
      "[[1. 1. 0. 0.]\n",
      " [0. 1. 0. 0.]\n",
      " [0. 1. 1. 0.]\n",
      " [1. 1. 1. 1.]]\n",
      "x_i\n",
      "[0 1 0 0]\n",
      "y_i\n",
      "[0 1 0 0]\n",
      "x_it == y_i\n",
      "x_i\n",
      "[0 1 0 0]\n",
      "y_i\n",
      "[0 1 0 0]\n",
      "F\n",
      "[[1. 1. 0. 0.]\n",
      " [0. 1. 0. 0.]\n",
      " [0. 1. 1. 0.]\n",
      " [1. 1. 1. 1.]]\n",
      "x_i\n",
      "[0 0 1 0]\n",
      "y_i\n",
      "[0 0 1 0]\n",
      "pick w_i\n",
      "A\n",
      "[[1. 0. 0. 1.]\n",
      " [1. 0. 0. 0.]\n",
      " [0. 0. 1. 1.]\n",
      " [0. 0. 0. 1.]]\n",
      "b\n",
      "[1 1 1 0]\n",
      "x_it\n",
      "[0. 1. 1. 0.]\n",
      "y_i\n",
      "[0 0 1 0]\n",
      "Y[:i, :] [[1 1 0 0]\n",
      " [0 1 0 0]]\n",
      "n 2\n",
      "w_i [1 0 0 1]\n",
      "h_i1\n",
      "[1 0 1 1]\n",
      "h_i2\n",
      "[1. 1. 1. 1.]\n",
      "F\n",
      "[[1. 1. 0. 0.]\n",
      " [1. 1. 1. 1.]\n",
      " [0. 1. 1. 0.]\n",
      " [1. 0. 1. 1.]]\n",
      "x_i\n",
      "[0 0 0 1]\n",
      "y_i\n",
      "[0 0 1 1]\n",
      "pick w_i\n",
      "A\n",
      "[[1. 1. 1. 0.]\n",
      " [1. 1. 0. 0.]\n",
      " [0. 0. 1. 1.]\n",
      " [0. 0. 0. 1.]\n",
      " [1. 0. 0. 0.]]\n",
      "b\n",
      "[1 1 0 1 0]\n",
      "x_it\n",
      "[1. 0. 1. 1.]\n",
      "y_i\n",
      "[0 0 1 1]\n",
      "Y[:i, :] [[1 1 0 0]\n",
      " [0 1 0 0]\n",
      " [0 0 1 0]]\n",
      "n 2\n",
      "w_i [1 1 1 1]\n",
      "h_i1\n",
      "[1 1 0 0]\n",
      "h_i2\n",
      "[0. 1. 0. 0.]\n",
      "F\n",
      "[[1. 1. 0. 0.]\n",
      " [1. 0. 1. 1.]\n",
      " [1. 0. 1. 0.]\n",
      " [1. 1. 1. 1.]]\n"
     ]
    }
   ],
   "source": [
    "# Define matrices X and Y\n",
    "X = np.array([[1, 0,0,0], [0, 1,0,0],[0,0,1,0],[0,0,0,1]])\n",
    "Y = np.array([[1,1,0,0], [0, 1,0,0],[0,0,1,0],[0,0,1,1]])\n",
    "\n",
    "\n",
    "# Perform the symplectic matrix transformation\n",
    "F, *_ = symplectic_ops.find_symp_mat_transvecs(X,Y)\n",
    "\n",
    "\n",
    "# Print the results\n",
    "# print(\"Resulting F matrix:\")\n",
    "#print(F)\n"
   ]
  },
  {
   "cell_type": "code",
   "execution_count": null,
   "metadata": {},
   "outputs": [],
   "source": [
    "\n"
   ]
  }
 ],
 "metadata": {
  "kernelspec": {
   "display_name": "quan_comp",
   "language": "python",
   "name": "python3"
  },
  "language_info": {
   "codemirror_mode": {
    "name": "ipython",
    "version": 3
   },
   "file_extension": ".py",
   "mimetype": "text/x-python",
   "name": "python",
   "nbconvert_exporter": "python",
   "pygments_lexer": "ipython3",
   "version": "3.8.18"
  }
 },
 "nbformat": 4,
 "nbformat_minor": 2
}
