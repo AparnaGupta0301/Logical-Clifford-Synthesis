{
 "cells": [
  {
   "cell_type": "code",
   "execution_count": 3,
   "metadata": {},
   "outputs": [
    {
     "name": "stdout",
     "output_type": "stream",
     "text": [
      "The autoreload extension is already loaded. To reload it, use:\n",
      "  %reload_ext autoreload\n"
     ]
    }
   ],
   "source": [
    "import numpy as np\n",
    "import sys\n",
    "sys.path.append(r\"C:\\Users\\gapar\\OneDrive\\Documents\\GitHub\\Logical-Clifford-Synthesis\")\n",
    "from Algorithms.algorithm_1 import SymplecticOperations\n",
    "from helper_functions.helperfunctions import SymplecticMatrix\n",
    "%load_ext autoreload\n",
    "%autoreload 2\n",
    "%reload_ext autoreload\n",
    "\n",
    "# Initialize the SymplecticOperations class\n",
    "symplectic_ops = SymplecticOperations()\n",
    "symp_mat = SymplecticMatrix(3)"
   ]
  },
  {
   "cell_type": "code",
   "execution_count": 5,
   "metadata": {},
   "outputs": [
    {
     "ename": "TypeError",
     "evalue": "SymplecticOperations.find_w() missing 1 required positional argument: 'n'",
     "output_type": "error",
     "traceback": [
      "\u001b[1;31m---------------------------------------------------------------------------\u001b[0m",
      "\u001b[1;31mTypeError\u001b[0m                                 Traceback (most recent call last)",
      "Cell \u001b[1;32mIn[5], line 7\u001b[0m\n\u001b[0;32m      3\u001b[0m Y \u001b[38;5;241m=\u001b[39m np\u001b[38;5;241m.\u001b[39marray([[\u001b[38;5;241m1\u001b[39m,\u001b[38;5;241m1\u001b[39m,\u001b[38;5;241m0\u001b[39m,\u001b[38;5;241m0\u001b[39m], [\u001b[38;5;241m0\u001b[39m, \u001b[38;5;241m1\u001b[39m,\u001b[38;5;241m0\u001b[39m,\u001b[38;5;241m0\u001b[39m],[\u001b[38;5;241m0\u001b[39m,\u001b[38;5;241m0\u001b[39m,\u001b[38;5;241m1\u001b[39m,\u001b[38;5;241m0\u001b[39m],[\u001b[38;5;241m0\u001b[39m,\u001b[38;5;241m0\u001b[39m,\u001b[38;5;241m1\u001b[39m,\u001b[38;5;241m1\u001b[39m]])\n\u001b[0;32m      6\u001b[0m \u001b[38;5;66;03m# Perform the symplectic matrix transformation\u001b[39;00m\n\u001b[1;32m----> 7\u001b[0m F, Transvecs \u001b[38;5;241m=\u001b[39m \u001b[43msymplectic_ops\u001b[49m\u001b[38;5;241;43m.\u001b[39;49m\u001b[43mfind_symp_mat_transvecs\u001b[49m\u001b[43m(\u001b[49m\u001b[43mX\u001b[49m\u001b[43m,\u001b[49m\u001b[43mY\u001b[49m\u001b[43m)\u001b[49m\n\u001b[0;32m     10\u001b[0m \u001b[38;5;66;03m# Print the results\u001b[39;00m\n\u001b[0;32m     11\u001b[0m \u001b[38;5;28mprint\u001b[39m(\u001b[38;5;124m\"\u001b[39m\u001b[38;5;124mResulting F matrix:\u001b[39m\u001b[38;5;124m\"\u001b[39m)\n",
      "File \u001b[1;32m~\\OneDrive\\Documents\\GitHub\\Logical-Clifford-Synthesis\\Algorithms\\algorithm_1.py:32\u001b[0m, in \u001b[0;36mSymplecticOperations.find_symp_mat_transvecs\u001b[1;34m(self, X, Y)\u001b[0m\n\u001b[0;32m     29\u001b[0m     Transvecs\u001b[38;5;241m.\u001b[39mappend((\u001b[38;5;28mself\u001b[39m\u001b[38;5;241m.\u001b[39mZ_h(h_i, n), h_i))\n\u001b[0;32m     30\u001b[0m \u001b[38;5;28;01melse\u001b[39;00m:\n\u001b[1;32m---> 32\u001b[0m     w_i \u001b[38;5;241m=\u001b[39m \u001b[38;5;28;43mself\u001b[39;49m\u001b[38;5;241;43m.\u001b[39;49m\u001b[43mfind_w\u001b[49m\u001b[43m(\u001b[49m\u001b[43mx_it\u001b[49m\u001b[43m,\u001b[49m\u001b[43m \u001b[49m\u001b[43my_i\u001b[49m\u001b[43m,\u001b[49m\u001b[43m \u001b[49m\u001b[43mY\u001b[49m\u001b[43m[\u001b[49m\u001b[43m:\u001b[49m\u001b[43mi\u001b[49m\u001b[43m,\u001b[49m\u001b[43m \u001b[49m\u001b[43m:\u001b[49m\u001b[43m]\u001b[49m\u001b[43m,\u001b[49m\u001b[43m \u001b[49m\u001b[43mn\u001b[49m\u001b[43m)\u001b[49m            \n\u001b[0;32m     34\u001b[0m     h_i1 \u001b[38;5;241m=\u001b[39m np\u001b[38;5;241m.\u001b[39mmod(w_i \u001b[38;5;241m+\u001b[39m y_i, \u001b[38;5;241m2\u001b[39m)\n\u001b[0;32m     36\u001b[0m     h_i2 \u001b[38;5;241m=\u001b[39m np\u001b[38;5;241m.\u001b[39mmod(x_it \u001b[38;5;241m+\u001b[39m w_i, \u001b[38;5;241m2\u001b[39m)\n",
      "\u001b[1;31mTypeError\u001b[0m: SymplecticOperations.find_w() missing 1 required positional argument: 'n'"
     ]
    }
   ],
   "source": [
    "# Define matrices X and Y\n",
    "X = np.array([[1, 0,0,0], [0, 1,0,0],[0,0,1,0],[0,0,0,1]])\n",
    "Y = np.array([[1,1,0,0], [0, 1,0,0],[0,0,1,0],[0,0,1,1]])\n",
    "\n",
    "\n",
    "# Perform the symplectic matrix transformation\n",
    "F, Transvecs = symplectic_ops.find_symp_mat_transvecs(X,Y)\n",
    "\n",
    "\n",
    "# Print the results\n",
    "print(\"Resulting F matrix:\")\n",
    "print(F)\n"
   ]
  },
  {
   "cell_type": "code",
   "execution_count": 6,
   "metadata": {},
   "outputs": [
    {
     "ename": "TypeError",
     "evalue": "SymplecticOperations.find_w() missing 1 required positional argument: 'n'",
     "output_type": "error",
     "traceback": [
      "\u001b[1;31m---------------------------------------------------------------------------\u001b[0m",
      "\u001b[1;31mTypeError\u001b[0m                                 Traceback (most recent call last)",
      "Cell \u001b[1;32mIn[6], line 9\u001b[0m\n\u001b[0;32m      5\u001b[0m V \u001b[38;5;241m=\u001b[39m np\u001b[38;5;241m.\u001b[39marray([[\u001b[38;5;241m1\u001b[39m,\u001b[38;5;241m1\u001b[39m,\u001b[38;5;241m0\u001b[39m,\u001b[38;5;241m0\u001b[39m], [\u001b[38;5;241m0\u001b[39m, \u001b[38;5;241m1\u001b[39m,\u001b[38;5;241m0\u001b[39m,\u001b[38;5;241m0\u001b[39m],[\u001b[38;5;241m0\u001b[39m,\u001b[38;5;241m0\u001b[39m,\u001b[38;5;241m1\u001b[39m,\u001b[38;5;241m0\u001b[39m],[\u001b[38;5;241m0\u001b[39m,\u001b[38;5;241m0\u001b[39m,\u001b[38;5;241m1\u001b[39m,\u001b[38;5;241m1\u001b[39m]])\n\u001b[0;32m      8\u001b[0m \u001b[38;5;66;03m# Perform the symplectic matrix transformation\u001b[39;00m\n\u001b[1;32m----> 9\u001b[0m F, Transvecs \u001b[38;5;241m=\u001b[39m \u001b[43msymplectic_ops\u001b[49m\u001b[38;5;241;43m.\u001b[39;49m\u001b[43mfind_symp_mat_transvecs\u001b[49m\u001b[43m(\u001b[49m\u001b[43mU\u001b[49m\u001b[43m,\u001b[49m\u001b[43mV\u001b[49m\u001b[43m)\u001b[49m\n\u001b[0;32m     12\u001b[0m \u001b[38;5;66;03m# Print the results\u001b[39;00m\n\u001b[0;32m     13\u001b[0m \u001b[38;5;28mprint\u001b[39m(\u001b[38;5;124m\"\u001b[39m\u001b[38;5;124mResulting F matrix:\u001b[39m\u001b[38;5;124m\"\u001b[39m)\n",
      "File \u001b[1;32m~\\OneDrive\\Documents\\GitHub\\Logical-Clifford-Synthesis\\Algorithms\\algorithm_1.py:32\u001b[0m, in \u001b[0;36mSymplecticOperations.find_symp_mat_transvecs\u001b[1;34m(self, X, Y)\u001b[0m\n\u001b[0;32m     29\u001b[0m     Transvecs\u001b[38;5;241m.\u001b[39mappend((\u001b[38;5;28mself\u001b[39m\u001b[38;5;241m.\u001b[39mZ_h(h_i, n), h_i))\n\u001b[0;32m     30\u001b[0m \u001b[38;5;28;01melse\u001b[39;00m:\n\u001b[1;32m---> 32\u001b[0m     w_i \u001b[38;5;241m=\u001b[39m \u001b[38;5;28;43mself\u001b[39;49m\u001b[38;5;241;43m.\u001b[39;49m\u001b[43mfind_w\u001b[49m\u001b[43m(\u001b[49m\u001b[43mx_it\u001b[49m\u001b[43m,\u001b[49m\u001b[43m \u001b[49m\u001b[43my_i\u001b[49m\u001b[43m,\u001b[49m\u001b[43m \u001b[49m\u001b[43mY\u001b[49m\u001b[43m[\u001b[49m\u001b[43m:\u001b[49m\u001b[43mi\u001b[49m\u001b[43m,\u001b[49m\u001b[43m \u001b[49m\u001b[43m:\u001b[49m\u001b[43m]\u001b[49m\u001b[43m,\u001b[49m\u001b[43m \u001b[49m\u001b[43mn\u001b[49m\u001b[43m)\u001b[49m            \n\u001b[0;32m     34\u001b[0m     h_i1 \u001b[38;5;241m=\u001b[39m np\u001b[38;5;241m.\u001b[39mmod(w_i \u001b[38;5;241m+\u001b[39m y_i, \u001b[38;5;241m2\u001b[39m)\n\u001b[0;32m     36\u001b[0m     h_i2 \u001b[38;5;241m=\u001b[39m np\u001b[38;5;241m.\u001b[39mmod(x_it \u001b[38;5;241m+\u001b[39m w_i, \u001b[38;5;241m2\u001b[39m)\n",
      "\u001b[1;31mTypeError\u001b[0m: SymplecticOperations.find_w() missing 1 required positional argument: 'n'"
     ]
    }
   ],
   "source": [
    "U = np.array([[1, 0 ,0 ,0],\n",
    " [0, 1, 0 ,0],\n",
    " [0 ,0, 0, 1]])\n",
    "\n",
    "V = np.array([[1,1,0,0], [0, 1,0,0],[0,0,1,0],[0,0,1,1]])\n",
    "\n",
    "\n",
    "# Perform the symplectic matrix transformation\n",
    "F, Transvecs = symplectic_ops.find_symp_mat_transvecs(U,V)\n",
    "\n",
    "\n",
    "# Print the results\n",
    "print(\"Resulting F matrix:\")\n",
    "print(F)\n"
   ]
  }
 ],
 "metadata": {
  "kernelspec": {
   "display_name": "quan_comp",
   "language": "python",
   "name": "python3"
  },
  "language_info": {
   "codemirror_mode": {
    "name": "ipython",
    "version": 3
   },
   "file_extension": ".py",
   "mimetype": "text/x-python",
   "name": "python",
   "nbconvert_exporter": "python",
   "pygments_lexer": "ipython3",
   "version": "3.12.2"
  }
 },
 "nbformat": 4,
 "nbformat_minor": 2
}
