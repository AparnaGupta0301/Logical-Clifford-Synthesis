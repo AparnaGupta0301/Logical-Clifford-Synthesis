{
 "cells": [
  {
   "cell_type": "code",
   "execution_count": 93,
   "metadata": {},
   "outputs": [
    {
     "name": "stdout",
     "output_type": "stream",
     "text": [
      "The autoreload extension is already loaded. To reload it, use:\n",
      "  %reload_ext autoreload\n"
     ]
    }
   ],
   "source": [
    "import numpy as np\n",
    "import sys\n",
    "sys.path.append(r\"C:\\Users\\gapar\\Logical-Clifford-Synthesis\")\n",
    "from Algorithms.algorithm_1 import SymplecticOperations\n",
    "from helper_functions.helperfunctions import SymplecticMatrix\n",
    "%load_ext autoreload\n",
    "%autoreload 2\n",
    "%reload_ext autoreload\n",
    "\n",
    "# Initialize the SymplecticOperations class\n",
    "symplectic_ops = SymplecticOperations()\n",
    "symp_mat = SymplecticMatrix(3)"
   ]
  },
  {
   "cell_type": "code",
   "execution_count": 94,
   "metadata": {},
   "outputs": [
    {
     "name": "stdout",
     "output_type": "stream",
     "text": [
      "Resulting F matrix:\n",
      "[[1. 1. 0. 0.]\n",
      " [0. 1. 0. 0.]\n",
      " [0. 0. 1. 0.]\n",
      " [0. 0. 1. 1.]]\n"
     ]
    }
   ],
   "source": [
    "# Define matrices X and Y\n",
    "X = np.array([[1, 0,0,0], [0, 1,0,0],[0,0,1,0],[0,0,0,1]])\n",
    "Y = np.array([[1,1,0,0], [0, 1,0,0],[0,0,1,0],[0,0,1,1]])\n",
    "\n",
    "\n",
    "# Perform the symplectic matrix transformation\n",
    "F, *_ = symplectic_ops.find_symp_mat_transvecs(X,Y)\n",
    "\n",
    "\n",
    "# Print the results\n",
    "print(\"Resulting F matrix:\")\n",
    "print(F)\n"
   ]
  },
  {
   "cell_type": "code",
   "execution_count": 95,
   "metadata": {},
   "outputs": [
    {
     "name": "stdout",
     "output_type": "stream",
     "text": [
      "Resulting F matrix:\n",
      "[[0. 0. 0. 1.]\n",
      " [1. 0. 0. 1.]\n",
      " [0. 1. 1. 0.]\n",
      " [0. 0. 1. 0.]]\n"
     ]
    }
   ],
   "source": [
    "U = np.array([[1, 0 ,0 ,0],\n",
    " [0, 1, 0 ,0],\n",
    " [0 ,0, 0, 1]])\n",
    "\n",
    "V = np.array([[1,1,0,0], [0, 1,0,0],[0,0,1,0],[0,0,1,1]])\n",
    "\n",
    "\n",
    "# Perform the symplectic matrix transformation\n",
    "F, Transvecs = symplectic_ops.find_symp_mat_transvecs(U,V)\n",
    "\n",
    "\n",
    "# Print the results\n",
    "print(\"Resulting F matrix:\")\n",
    "print(F)\n"
   ]
  }
 ],
 "metadata": {
  "kernelspec": {
   "display_name": "quan_comp",
   "language": "python",
   "name": "python3"
  },
  "language_info": {
   "codemirror_mode": {
    "name": "ipython",
    "version": 3
   },
   "file_extension": ".py",
   "mimetype": "text/x-python",
   "name": "python",
   "nbconvert_exporter": "python",
   "pygments_lexer": "ipython3",
   "version": "3.11.9"
  }
 },
 "nbformat": 4,
 "nbformat_minor": 2
}
