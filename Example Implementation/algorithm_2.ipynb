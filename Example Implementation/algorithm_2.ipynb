{
 "cells": [
  {
   "cell_type": "code",
   "execution_count": 1,
   "metadata": {},
   "outputs": [
    {
     "name": "stdout",
     "output_type": "stream",
     "text": [
      "[[0 1]\n",
      " [1 0]]\n"
     ]
    }
   ],
   "source": [
    "import numpy as np\n",
    "import sys\n",
    "sys.path.append(r\"C:\\Users\\gapar\\Logical-Clifford-Synthesis\")\n",
    "from Algorithms.algorithm_1 import SymplecticOperations\n",
    "from Algorithms.algorithm_2 import FindAllSympMat\n",
    "\n",
    "from helper_functions.helperfunctions import SymplecticMatrix\n",
    "%load_ext autoreload\n",
    "%autoreload 2\n",
    "%reload_ext autoreload\n"
   ]
  },
  {
   "cell_type": "code",
   "execution_count": 2,
   "metadata": {},
   "outputs": [],
   "source": [
    "solver = FindAllSympMat()"
   ]
  },
  {
   "cell_type": "code",
   "execution_count": 3,
   "metadata": {},
   "outputs": [],
   "source": [
    "X = np.array([[1, 0,0,0], [0, 1,0,0],[0,0,1,0],[0,0,0,1]])\n",
    "Y = np.array([[1,1,0,0], [0, 1,0,0],[0,0,1,0],[0,0,1,1]])\n",
    "I = [1,2]\n",
    "J = [1]\n",
    "\n",
    "F_all = solver.find_all_symp_mat(X, Y, I, J)"
   ]
  },
  {
   "cell_type": "code",
   "execution_count": 4,
   "metadata": {},
   "outputs": [
    {
     "name": "stdout",
     "output_type": "stream",
     "text": [
      "[array([[1., 1., 0., 0.],\n",
      "       [0., 1., 0., 0.],\n",
      "       [0., 0., 1., 0.],\n",
      "       [0., 1., 1., 1.]]), array([[1., 1., 0., 0.],\n",
      "       [0., 1., 0., 0.],\n",
      "       [0., 0., 1., 0.],\n",
      "       [0., 0., 1., 1.]])]\n"
     ]
    }
   ],
   "source": [
    "print(F_all)"
   ]
  }
 ],
 "metadata": {
  "kernelspec": {
   "display_name": "quan_comp",
   "language": "python",
   "name": "python3"
  },
  "language_info": {
   "codemirror_mode": {
    "name": "ipython",
    "version": 3
   },
   "file_extension": ".py",
   "mimetype": "text/x-python",
   "name": "python",
   "nbconvert_exporter": "python",
   "pygments_lexer": "ipython3",
   "version": "3.11.9"
  }
 },
 "nbformat": 4,
 "nbformat_minor": 2
}
