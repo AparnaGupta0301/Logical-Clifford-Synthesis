{
 "cells": [
  {
   "cell_type": "code",
   "execution_count": 4,
   "metadata": {},
   "outputs": [],
   "source": [
    "import sys\n",
    "import numpy as np\n",
    "sys.path.append(r\"C:\\\\Users\\\\gapar\\\\Logical-Clifford-Synthesis\")\n",
    "from Algorithms.algorithm_1 import SymplecticOperations\n",
    "from Algorithms.algorithm_3 import SymplecticCodeSolver\n",
    "from helper_functions.helperfunctions import SymplecticMatrix"
   ]
  },
  {
   "cell_type": "markdown",
   "metadata": {},
   "source": [
    "## Problem Context\n",
    "\n",
    "The task involves solving for **symplectic matrices** over the finite field \\(\\mathbb{F}_2\\), which is essential in quantum error correction and stabilizer codes. Symplectic matrices play a key role in Clifford circuits, and we aim to find all possible symplectic matrices `F` that satisfy the following equation:\n",
    "\n",
    "\\[\n",
    "U(1:2m-k,:) \\cdot F = V\n",
    "\\]\n",
    "\n",
    "Where:\n",
    "- \\( U \\) is a symplectic basis matrix over \\(\\mathbb{F}_2^{2m}\\),\n",
    "- \\( V \\) is a matrix that represents constraints on the symplectic matrix \\( F \\),\n",
    "- \\( k \\) is the number of logical qubits in the code.\n",
    "\n",
    "### Symplectic Basis\n",
    "\n",
    "For a matrix \\( U \\) to be a **symplectic basis** for \\(\\mathbb{F}_2^{2m}\\), it must satisfy the following condition:\n",
    "\n",
    "\\[\n",
    "U \\cdot \\Omega \\cdot U^T = \\Omega\n",
    "\\]\n",
    "\n",
    "Where:\n",
    "- \\(\\Omega\\) is the **symplectic form**, a matrix defined as:\n",
    "\n",
    "\\[\n",
    "\\Omega = \\begin{bmatrix} 0 & I_m \\\\ I_m & 0 \\end{bmatrix}\n",
    "\\]\n",
    "\n",
    "- The rows of \\( U \\) are structured as follows:\n",
    "  - \\(X\\)-bar: Logical \\(X\\) operators,\n",
    "  - \\(Z\\)-bar: Logical \\(Z\\) operators,\n",
    "  - \\(S\\): Stabilizer generators,\n",
    "  - \\(S_{\\text{pair}}\\): Symplectic pairs that complete the basis.\n",
    "\n",
    "### Problem Objective\n",
    "\n",
    "The goal of the `symplectic_code` function is to find all symplectic matrices \\( F \\) that satisfy the equation \\( U(1:2m-k,:) \\cdot F = V \\). This is done using symplectic transvections and exploring the symplectic subspace.\n",
    "\n",
    "## Function Breakdown\n",
    "\n",
    "### 1. Initialization of Variables\n",
    "\n",
    "- `m` is the number of qubits. It is calculated as \\( \\frac{\\text{columns of } U}{2} \\), since \\( U \\) is symplectic and thus has \\( 2m \\) columns.\n",
    "  \n",
    "  \\[\n",
    "  m = \\frac{\\text{number of columns of } U}{2}\n",
    "  \\]\n",
    "\n",
    "- `k` is the number of logical qubits, calculated as:\n",
    "\n",
    "  \\[\n",
    "  k = 2m - \\text{number of rows of } V\n",
    "  \\]\n",
    "\n",
    "- `tot` represents the **total number of solutions**:\n",
    "\n",
    "  \\[\n",
    "  \\text{tot} = 2^{\\frac{k(k+1)}{2}}\n",
    "  \\]\n",
    "\n",
    "- `F_all` is initialized as a list that will store all the valid symplectic matrices.\n",
    "\n",
    "### 2. Find Initial Solution Using Symplectic Transvections\n",
    "\n",
    "### 3. Generate the symplectic subspace and explore all possible solutions using stabilizer conditions.\n",
    "\n",
    "### 4. For each choice of free vectors, construct a symplectic matrix.\n",
    "\n",
    "### 5. Return all symplectic matrices that satisfy the equation  U(1:2*m-k,:) * F = V.\n"
   ]
  },
  {
   "cell_type": "code",
   "execution_count": 5,
   "metadata": {},
   "outputs": [],
   "source": [
    "# Initialize the SymplecticOperations class\n",
    "symplectic_ops = SymplecticOperations()\n",
    "symp_mat = SymplecticMatrix(4)\n",
    "symp_code = SymplecticCodeSolver()"
   ]
  },
  {
   "cell_type": "code",
   "execution_count": 6,
   "metadata": {},
   "outputs": [
    {
     "data": {
      "text/plain": [
       "[array([[0., 0., 1., 0.],\n",
       "        [0., 0., 1., 1.],\n",
       "        [1., 1., 1., 1.],\n",
       "        [0., 1., 1., 0.]]),\n",
       " array([[0., 0., 1., 0.],\n",
       "        [0., 0., 1., 1.],\n",
       "        [1., 1., 1., 1.],\n",
       "        [0., 1., 0., 1.]]),\n",
       " array([[0., 0., 1., 0.],\n",
       "        [0., 0., 1., 1.],\n",
       "        [1., 1., 0., 0.],\n",
       "        [0., 1., 0., 0.]]),\n",
       " array([[0., 0., 1., 0.],\n",
       "        [0., 0., 1., 1.],\n",
       "        [1., 1., 0., 0.],\n",
       "        [0., 1., 1., 1.]]),\n",
       " array([[0., 0., 1., 0.],\n",
       "        [0., 0., 1., 1.],\n",
       "        [1., 1., 0., 1.],\n",
       "        [0., 1., 1., 0.]]),\n",
       " array([[0., 0., 1., 0.],\n",
       "        [0., 0., 1., 1.],\n",
       "        [1., 1., 0., 1.],\n",
       "        [0., 1., 0., 1.]]),\n",
       " array([[0., 0., 1., 0.],\n",
       "        [0., 0., 1., 1.],\n",
       "        [1., 1., 1., 0.],\n",
       "        [0., 1., 0., 0.]]),\n",
       " array([[0., 0., 1., 0.],\n",
       "        [0., 0., 1., 1.],\n",
       "        [1., 1., 1., 0.],\n",
       "        [0., 1., 1., 1.]])]"
      ]
     },
     "execution_count": 6,
     "metadata": {},
     "output_type": "execute_result"
    }
   ],
   "source": [
    "X = np.array([[1, 0,0,0], [0, 1,0,0],[0,0,1,0],[0,0,0,1]])\n",
    "Y = np.array([[0,0,1,0],[0,0,1,1]])\n",
    "F_all = symp_code.symplectic_code(X, Y)\n",
    "F_all\n",
    "\n"
   ]
  }
 ],
 "metadata": {
  "kernelspec": {
   "display_name": "quan_comp",
   "language": "python",
   "name": "python3"
  },
  "language_info": {
   "codemirror_mode": {
    "name": "ipython",
    "version": 3
   },
   "file_extension": ".py",
   "mimetype": "text/x-python",
   "name": "python",
   "nbconvert_exporter": "python",
   "pygments_lexer": "ipython3",
   "version": "3.11.9"
  }
 },
 "nbformat": 4,
 "nbformat_minor": 2
}
