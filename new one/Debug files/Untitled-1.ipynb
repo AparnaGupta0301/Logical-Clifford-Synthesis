{
 "cells": [
  {
   "cell_type": "code",
   "execution_count": 5,
   "metadata": {},
   "outputs": [
    {
     "name": "stdout",
     "output_type": "stream",
     "text": [
      "The autoreload extension is already loaded. To reload it, use:\n",
      "  %reload_ext autoreload\n"
     ]
    }
   ],
   "source": [
    "import numpy as np\n",
    "import sys\n",
    "sys.path.append(r\"C:\\Users\\gapar\\Logical-Clifford-Synthesis\")\n",
    "from Algorithms.algorithm_1 import SymplecticOperations\n",
    "from helper_functions.helperfunctions import SymplecticMatrix\n",
    "%load_ext autoreload\n",
    "%autoreload 2\n",
    "%reload_ext autoreload\n",
    "\n",
    "# Initialize the SymplecticOperations class\n",
    "symplectic_ops = SymplecticOperations()\n",
    "symp_mat = SymplecticMatrix(3)"
   ]
  },
  {
   "cell_type": "code",
   "execution_count": 6,
   "metadata": {},
   "outputs": [
    {
     "name": "stdout",
     "output_type": "stream",
     "text": [
      "Reduced A:\n",
      " [[1 0 0 0]\n",
      " [0 1 0 1]\n",
      " [0 0 1 0]]\n",
      "Modified b: [1 1 0]\n",
      "Solution: [1 1 0 0]\n"
     ]
    }
   ],
   "source": [
    "import numpy as np\n",
    "\n",
    "def reduce_to_echelon_form(A, b):\n",
    "    \"\"\"Reduce the matrix A to echelon form over GF(2) and apply the same operations to b.\"\"\"\n",
    "    rows, cols = A.shape\n",
    "    A = np.copy(A) % 2\n",
    "    b = np.copy(b) % 2\n",
    "    row = 0\n",
    "\n",
    "    for col in range(cols):\n",
    "        if row >= rows:\n",
    "            break\n",
    "        \n",
    "        # Find a pivot row for this column\n",
    "        pivot = np.where(A[row:, col] == 1)[0]\n",
    "        if len(pivot) == 0:\n",
    "            continue  # No pivot in this column, move to the next column\n",
    "        pivot_row = pivot[0] + row\n",
    "        \n",
    "        # Swap the current row with the pivot row\n",
    "        A[[row, pivot_row]] = A[[pivot_row, row]]\n",
    "        b[[row, pivot_row]] = b[[pivot_row, row]]\n",
    "        \n",
    "        # Eliminate all other ones in this column\n",
    "        for r in range(rows):\n",
    "            if r != row and A[r, col] == 1:\n",
    "                A[r] ^= A[row]\n",
    "                b[r] ^= b[row]\n",
    "        row += 1\n",
    "\n",
    "    return A, b\n",
    "\n",
    "def solve_from_echelon_form(A, b):\n",
    "    \"\"\"Solve the system given A in echelon form.\"\"\"\n",
    "    rows, cols = A.shape\n",
    "    x = np.zeros(cols, dtype=int)\n",
    "    \n",
    "    for r in range(rows - 1, -1, -1):\n",
    "        if np.any(A[r]) == 0:\n",
    "            continue  # Skip rows that are all zeros\n",
    "        col = np.argmax(A[r])  # Find the first 1 in this row\n",
    "        x[col] = b[r] ^ np.dot(A[r], x) % 2\n",
    "    return x\n",
    "\n",
    "# Example\n",
    "A = np.array([[1,0,1,0], [1,0,0,0],[0,1,0,1]], dtype=int)\n",
    "b = np.array([1,1,1], dtype=int)\n",
    "\n",
    "A_reduced, b_reduced = reduce_to_echelon_form(A, b)\n",
    "x = solve_from_echelon_form(A_reduced, b_reduced)\n",
    "\n",
    "print(\"Reduced A:\\n\", A_reduced)\n",
    "print(\"Modified b:\", b_reduced)\n",
    "print(\"Solution:\", x)\n"
   ]
  },
  {
   "cell_type": "code",
   "execution_count": 9,
   "metadata": {},
   "outputs": [],
   "source": [
    "def solve_gf2(A, B):\n",
    "    \"\"\"\n",
    "    Solve the system of equations Ax = B in GF(2) using the inverse method.\n",
    "    \n",
    "    Parameters:\n",
    "    - A: Coefficient matrix in GF(2)\n",
    "    - B: Constant vector in GF(2)\n",
    "    \n",
    "    Returns:\n",
    "    - x: Solution vector in GF(2)\n",
    "    \n",
    "    Raises:\n",
    "    - ValueError: If A is singular (non-invertible) in GF(2).\n",
    "    \"\"\"\n",
    "    # Step 1: Compute the inverse of A in GF(2)\n",
    "    try:\n",
    "        A_inv = symp_mat.gf2matinv(A)\n",
    "        print(A_inv)\n",
    "    except ValueError as e:\n",
    "        return str(e)  # If A is singular, return the error message\n",
    "    \n",
    "    # Step 2: Multiply A_inv by B to find x\n",
    "    x = np.dot(A_inv, np.transpose(B)) % 2  # Perform dot product and reduce mod 2 (GF(2) arithmetic)\n",
    "    \n",
    "    return x\n"
   ]
  },
  {
   "cell_type": "code",
   "execution_count": 10,
   "metadata": {},
   "outputs": [
    {
     "name": "stdout",
     "output_type": "stream",
     "text": [
      "[[0 0 1 0]\n",
      " [1 0 0 1]\n",
      " [0 1 1 0]]\n"
     ]
    },
    {
     "ename": "ValueError",
     "evalue": "shapes (3,4) and (3,) not aligned: 4 (dim 1) != 3 (dim 0)",
     "output_type": "error",
     "traceback": [
      "\u001b[1;31m---------------------------------------------------------------------------\u001b[0m",
      "\u001b[1;31mValueError\u001b[0m                                Traceback (most recent call last)",
      "Cell \u001b[1;32mIn[10], line 1\u001b[0m\n\u001b[1;32m----> 1\u001b[0m solution \u001b[38;5;241m=\u001b[39m solve_gf2(A, b)\n\u001b[0;32m      2\u001b[0m \u001b[38;5;28mprint\u001b[39m(\u001b[38;5;124m\"\u001b[39m\u001b[38;5;124mSolution:\u001b[39m\u001b[38;5;124m\"\u001b[39m, x)\n",
      "Cell \u001b[1;32mIn[9], line 23\u001b[0m, in \u001b[0;36msolve_gf2\u001b[1;34m(A, B)\u001b[0m\n\u001b[0;32m     20\u001b[0m     \u001b[38;5;28;01mreturn\u001b[39;00m \u001b[38;5;28mstr\u001b[39m(e)  \u001b[38;5;66;03m# If A is singular, return the error message\u001b[39;00m\n\u001b[0;32m     22\u001b[0m \u001b[38;5;66;03m# Step 2: Multiply A_inv by B to find x\u001b[39;00m\n\u001b[1;32m---> 23\u001b[0m x \u001b[38;5;241m=\u001b[39m np\u001b[38;5;241m.\u001b[39mdot(A_inv, np\u001b[38;5;241m.\u001b[39mtranspose(B)) \u001b[38;5;241m%\u001b[39m \u001b[38;5;241m2\u001b[39m  \u001b[38;5;66;03m# Perform dot product and reduce mod 2 (GF(2) arithmetic)\u001b[39;00m\n\u001b[0;32m     25\u001b[0m \u001b[38;5;28;01mreturn\u001b[39;00m x\n",
      "\u001b[1;31mValueError\u001b[0m: shapes (3,4) and (3,) not aligned: 4 (dim 1) != 3 (dim 0)"
     ]
    }
   ],
   "source": [
    "solution = solve_gf2(A, b)\n",
    "print(\"Solution:\", x)"
   ]
  }
 ],
 "metadata": {
  "kernelspec": {
   "display_name": "Python 3",
   "language": "python",
   "name": "python3"
  },
  "language_info": {
   "codemirror_mode": {
    "name": "ipython",
    "version": 3
   },
   "file_extension": ".py",
   "mimetype": "text/x-python",
   "name": "python",
   "nbconvert_exporter": "python",
   "pygments_lexer": "ipython3",
   "version": "3.11.9"
  }
 },
 "nbformat": 4,
 "nbformat_minor": 2
}
