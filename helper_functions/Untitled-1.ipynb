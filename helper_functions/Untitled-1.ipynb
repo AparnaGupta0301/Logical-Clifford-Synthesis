{
 "cells": [
  {
   "cell_type": "code",
   "execution_count": 29,
   "metadata": {},
   "outputs": [
    {
     "name": "stdout",
     "output_type": "stream",
     "text": [
      "Reduced A:\n",
      " [[1 0 0 0]\n",
      " [0 1 0 1]\n",
      " [0 0 1 0]]\n",
      "Modified b: [0 0 1]\n",
      "Solution: [0 0 1 0]\n"
     ]
    }
   ],
   "source": [
    "import numpy as np\n",
    "\n",
    "def reduce_to_echelon_form(A, b):\n",
    "    \"\"\"Reduce the matrix A to echelon form over GF(2) and apply the same operations to b.\"\"\"\n",
    "    rows, cols = A.shape\n",
    "    A = np.copy(A) % 2\n",
    "    b = np.copy(b) % 2\n",
    "    row = 0\n",
    "\n",
    "    for col in range(cols):\n",
    "        if row >= rows:\n",
    "            break\n",
    "        \n",
    "        # Find a pivot row for this column\n",
    "        pivot = np.where(A[row:, col] == 1)[0]\n",
    "        if len(pivot) == 0:\n",
    "            continue  # No pivot in this column, move to the next column\n",
    "        pivot_row = pivot[0] + row\n",
    "        \n",
    "        # Swap the current row with the pivot row\n",
    "        A[[row, pivot_row]] = A[[pivot_row, row]]\n",
    "        b[[row, pivot_row]] = b[[pivot_row, row]]\n",
    "        \n",
    "        # Eliminate all other ones in this column\n",
    "        for r in range(rows):\n",
    "            if r != row and A[r, col] == 1:\n",
    "                A[r] ^= A[row]\n",
    "                b[r] ^= b[row]\n",
    "        row += 1\n",
    "\n",
    "    return A, b\n",
    "\n",
    "def solve_from_echelon_form(A, b):\n",
    "    \"\"\"Solve the system given A in echelon form.\"\"\"\n",
    "    rows, cols = A.shape\n",
    "    x = np.zeros(cols, dtype=int)\n",
    "    \n",
    "    for r in range(rows - 1, -1, -1):\n",
    "        if np.any(A[r]) == 0:\n",
    "            continue  # Skip rows that are all zeros\n",
    "        col = np.argmax(A[r])  # Find the first 1 in this row\n",
    "        x[col] = b[r] ^ np.dot(A[r], x) % 2\n",
    "    return x\n",
    "\n",
    "# Example\n",
    "A = np.array([[1,0,1,0], [1,0,0,0],[0,1,0,1]], dtype=int)\n",
    "b = np.array([1,0,0], dtype=int)\n",
    "\n",
    "A_reduced, b_reduced = reduce_to_echelon_form(A, b)\n",
    "x = solve_from_echelon_form(A_reduced, b_reduced)\n",
    "\n",
    "print(\"Reduced A:\\n\", A_reduced)\n",
    "print(\"Modified b:\", b_reduced)\n",
    "print(\"Solution:\", x)\n"
   ]
  }
 ],
 "metadata": {
  "kernelspec": {
   "display_name": "Python 3",
   "language": "python",
   "name": "python3"
  },
  "language_info": {
   "codemirror_mode": {
    "name": "ipython",
    "version": 3
   },
   "file_extension": ".py",
   "mimetype": "text/x-python",
   "name": "python",
   "nbconvert_exporter": "python",
   "pygments_lexer": "ipython3",
   "version": "3.8.18"
  }
 },
 "nbformat": 4,
 "nbformat_minor": 2
}
